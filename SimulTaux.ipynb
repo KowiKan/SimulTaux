{
 "cells": [
  {
   "cell_type": "code",
   "execution_count": 75,
   "metadata": {},
   "outputs": [],
   "source": [
    "%matplotlib widget\n",
    "import ipywidgets as widgets\n",
    "import matplotlib as mpl\n",
    "import matplotlib.pyplot as plt\n",
    "import numpy as np\n",
    "import pandas as pd\n"
   ]
  },
  {
   "cell_type": "code",
   "execution_count": 78,
   "metadata": {},
   "outputs": [
    {
     "data": {
      "application/vnd.jupyter.widget-view+json": {
       "model_id": "67c0071881ca4c96b30468bea184d377",
       "version_major": 2,
       "version_minor": 0
      },
      "text/plain": [
       "HBox(children=(VBox(children=(IntSlider(value=20, description='Nb Années', max=30, min=1), IntSlider(value=12,…"
      ]
     },
     "metadata": {},
     "output_type": "display_data"
    }
   ],
   "source": [
    "def calc(nb_years, r):\n",
    "    account_history=pd.DataFrame(index=range(nb_years+1),columns= ['Amount_End_Of_Year'])\n",
    "    Start_Amount = 1000\n",
    "    \n",
    "    for step in range(nb_years+1):       \n",
    "        \n",
    "        ## Update the account value for this time step\n",
    "        account_value=Start_Amount*(1+r)**step\n",
    "        ## Save the values so I can look at the history and plot it\n",
    "        account_history.iloc[step]=account_value\n",
    "    return account_history\n",
    "\n",
    "nb_year=20\n",
    "r = 0.122\n",
    "\n",
    "plt.close('all')\n",
    "\n",
    "\n",
    "output = widgets.Output()\n",
    " \n",
    "# create some x data\n",
    "years = np.linspace(0,nb_year, num= nb_year + 1)\n",
    " \n",
    "# default line color\n",
    "initial_color = '#00AFD7'\n",
    "\n",
    "plt.ioff()\n",
    "fig, ax = plt.subplots(constrained_layout=True, figsize=(5, 3))\n",
    "line, = ax.plot(years, calc(nb_year,r)['Amount_End_Of_Year'], initial_color)\n",
    "fig.canvas.toolbar_position = 'bottom'\n",
    "ax.grid(True)\n",
    "plt.title('Evolution Montant')\n",
    "plt.xlabel('Année')\n",
    "plt.ylabel('Montant')\n",
    "ax.yaxis.set_major_formatter(mpl.ticker.StrMethodFormatter('{x:,.0f}'))\n",
    "plt.ion()\n",
    "\n",
    "with output:\n",
    "    display(fig)\n",
    "\n",
    "\n",
    "# create some control elements\n",
    "int_slider_year = widgets.IntSlider(value=20, min=1, max=30, step=1, description='Nb Années')\n",
    "int_slider_ir = widgets.IntSlider(value=12, min=0, max=50, step=1, description='Taux %')\n",
    "caption1 = widgets.Label(value='Au bout de 20 ans, vous disposez de ')\n",
    "caption2 = widgets.Label(value='9,646.29 EUR pour 1,000 EUR investis')\n",
    " \n",
    "# callback functions\n",
    "def update_duration(change):\n",
    "    new_y=calc(change.new,int_slider_ir.value/100)\n",
    "    caption1.value = 'Au bout de ' + str(change.new)+ ' ans, vous disposez de '\n",
    "    caption2.value = \"{:,.2f}\".format(new_y['Amount_End_Of_Year'][change.new])  +' EUR pour 1,000 EUR investis'\n",
    "    years = np.linspace(0,change.new, num= change.new + 1)\n",
    "    ax.set_xlim(0, change.new *1.05)\n",
    "    ax.set_ylim(1000, new_y['Amount_End_Of_Year'][change.new]*1.05)\n",
    "    line.set_data(years,new_y['Amount_End_Of_Year'])\n",
    "    output.clear_output(wait=True)\n",
    "    with output:\n",
    "        display(fig)\n",
    "\n",
    "    \n",
    "\n",
    "def update_ir(change):\n",
    "    new_y=calc(int_slider_year.value,change.new/100)\n",
    "    caption1.value = 'Au bout de ' + str(int_slider_year.value)+ ' ans, vous disposez de '\n",
    "    caption2.value = \"{:,.2f}\".format(new_y['Amount_End_Of_Year'][int_slider_year.value])  +' EUR pour 1,000 EUR investis'\n",
    "    years = np.linspace(0,int_slider_year.value, num= int_slider_year.value + 1)\n",
    "    output.clear_output(wait=True)\n",
    "    ax.set_xlim(0, int_slider_year.value *1.05)\n",
    "    ax.set_ylim(1000, new_y['Amount_End_Of_Year'][int_slider_year.value]*1.05)\n",
    "    line.set_data(years,new_y['Amount_End_Of_Year'])\n",
    "    with output:\n",
    "        display(fig)\n",
    "      \n",
    "    \n",
    "# connect callbacks and traits\n",
    "int_slider_year.observe(update_duration, 'value')\n",
    "int_slider_ir.observe(update_ir, 'value')\n",
    "\n",
    "control = widgets.VBox([\n",
    "            int_slider_year, \n",
    "            int_slider_ir, \n",
    "            caption1,\n",
    "            caption2\n",
    "          ])\n",
    "\n",
    "\n",
    "def make_box_layout():\n",
    "     return widgets.Layout(\n",
    "        border='solid 1px black',\n",
    "        align_items='center',\n",
    "        margin='0px 10px 10px 0px',\n",
    "        padding='5px 5px 5px 5px'\n",
    "     )\n",
    "\n",
    "control.layout = make_box_layout()\n",
    "\n",
    "output.layout = make_box_layout()\n",
    "\n",
    "\n",
    "\n",
    "widgets.HBox([control, output])\n"
   ]
  },
  {
   "cell_type": "code",
   "execution_count": null,
   "metadata": {},
   "outputs": [],
   "source": []
  },
  {
   "cell_type": "code",
   "execution_count": null,
   "metadata": {},
   "outputs": [],
   "source": []
  },
  {
   "cell_type": "code",
   "execution_count": null,
   "metadata": {},
   "outputs": [],
   "source": []
  }
 ],
 "metadata": {
  "kernelspec": {
   "display_name": "Python 3 (ipykernel)",
   "language": "python",
   "name": "python3"
  },
  "language_info": {
   "codemirror_mode": {
    "name": "ipython",
    "version": 3
   },
   "file_extension": ".py",
   "mimetype": "text/x-python",
   "name": "python",
   "nbconvert_exporter": "python",
   "pygments_lexer": "ipython3",
   "version": "3.9.7"
  }
 },
 "nbformat": 4,
 "nbformat_minor": 4
}
